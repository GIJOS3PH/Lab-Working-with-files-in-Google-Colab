{
  "nbformat": 4,
  "nbformat_minor": 0,
  "metadata": {
    "colab": {
      "provenance": []
    },
    "kernelspec": {
      "name": "python3",
      "display_name": "Python 3"
    },
    "language_info": {
      "name": "python"
    }
  },
  "cells": [
    {
      "cell_type": "markdown",
      "source": [
        "#**Data Science Tools and Ecosystem**"
      ],
      "metadata": {
        "id": "tZ_d3R_Pwre7"
      }
    },
    {
      "cell_type": "markdown",
      "source": [
        "In this notebook, Data Science Tools and Ecosystem are summarized."
      ],
      "metadata": {
        "id": "9nMqMi61xGfA"
      }
    },
    {
      "cell_type": "markdown",
      "source": [
        "Some of the key takeaways from the course are:\n",
        "\n",
        "* Popular Data Science lenguages\n",
        "* Commonly used Data Science libraries\n",
        "* Arithmetic expressions\n",
        "* Markdown tables\n",
        "* Lists"
      ],
      "metadata": {
        "id": "r0qfguf41uFt"
      }
    },
    {
      "cell_type": "markdown",
      "source": [
        "Some of the popular lenguages Data Scientist use are:\n",
        "\n",
        "1. Python\n",
        "2. R\n",
        "3. Julia\n",
        "4. Scala\n",
        "5. C++\n",
        "6. Java\n",
        "7. JavaScript\n",
        "8. SQL\n",
        "\n"
      ],
      "metadata": {
        "id": "dODbG1IBxbyn"
      }
    },
    {
      "cell_type": "markdown",
      "source": [
        "Some of the commonly used libraries used by Data Scientist include:\n",
        "\n",
        "In Python:\n",
        "\n",
        "1. Pandas\n",
        "2. Numpy\n",
        "3. Matplotlib\n",
        "4. Seaborn\n",
        "5. Sci-Kit Learn\n",
        "6. Keras\n",
        "7. TensorFlow\n",
        "8. PyTorch\n",
        "\n",
        "In Scala:\n",
        "\n",
        "1. Vegas\n",
        "2. BigDL\n",
        "\n",
        "\n"
      ],
      "metadata": {
        "id": "uWYz6y-Eyqpu"
      }
    },
    {
      "cell_type": "markdown",
      "source": [
        "**Development environment Open Source Tools**|\n",
        "---------------------------------------------|\n",
        "R-Studio\n",
        "Jupyter Notebooks\n",
        "Spyder\n"
      ],
      "metadata": {
        "id": "s7vI-1vb3rma"
      }
    },
    {
      "cell_type": "markdown",
      "source": [
        "###**Below are a few examples of evaluating arithmetic expressions in Python**"
      ],
      "metadata": {
        "id": "Ae6nSL1P6-KN"
      }
    },
    {
      "cell_type": "code",
      "execution_count": 1,
      "metadata": {
        "id": "1kLHRqw1vQRo",
        "colab": {
          "base_uri": "https://localhost:8080/"
        },
        "outputId": "e41bc84c-043b-47b5-8cda-7746358e312c"
      },
      "outputs": [
        {
          "output_type": "execute_result",
          "data": {
            "text/plain": [
              "17"
            ]
          },
          "metadata": {},
          "execution_count": 1
        }
      ],
      "source": [
        "# This is a simple arithmetic expression to multiply then add integers\n",
        "\n",
        "(3*4)+5"
      ]
    },
    {
      "cell_type": "code",
      "source": [
        "#This will convert 200 minutes into hours by dividing by 60\n",
        "\n",
        "200/60"
      ],
      "metadata": {
        "colab": {
          "base_uri": "https://localhost:8080/"
        },
        "id": "u1kNDwbH0YKB",
        "outputId": "9c4cfa37-cd03-4bed-977d-ea70008d1dac"
      },
      "execution_count": 2,
      "outputs": [
        {
          "output_type": "execute_result",
          "data": {
            "text/plain": [
              "3.3333333333333335"
            ]
          },
          "metadata": {},
          "execution_count": 2
        }
      ]
    },
    {
      "cell_type": "markdown",
      "source": [
        "##**Author**\n",
        "\n",
        "##José Ávila"
      ],
      "metadata": {
        "id": "ilT7oAlE8MI7"
      }
    }
  ]
}